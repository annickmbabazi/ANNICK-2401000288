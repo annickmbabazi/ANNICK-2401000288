{
  "nbformat": 4,
  "nbformat_minor": 0,
  "metadata": {
    "colab": {
      "provenance": []
    },
    "kernelspec": {
      "name": "python3",
      "display_name": "Python 3"
    },
    "language_info": {
      "name": "python"
    }
  },
  "cells": [
    {
      "cell_type": "code",
      "execution_count": 2,
      "metadata": {
        "colab": {
          "base_uri": "https://localhost:8080/"
        },
        "id": "G5JwwyArER7H",
        "outputId": "90496c6f-c196-43bb-948e-092861812a54"
      },
      "outputs": [
        {
          "output_type": "stream",
          "name": "stdout",
          "text": [
            "Error: The 'content' column is missing from the dataset.\n",
            "Error: The 'content' column is missing from the dataset.\n"
          ]
        }
      ],
      "source": [
        "import pandas as pd\n",
        "def jaccard_similarity(text1, text2):\n",
        "    # Split texts into sets of words\n",
        "    set1 = set(text1.split())\n",
        "\n",
        "# Define phishing keywords\n",
        "phishing_keywords = [\"urgent\", \"password reset\", \"bank\", \"verify\", \"account suspended\"]\n",
        "#These are words commonly found in phishing emails.\n",
        "#The script will check if an email contains any of these words.\n",
        "\n",
        "# Load the dataset (uploaded file)\n",
        "emails = pd.read_csv(\"/content/2401000288.csv\")\n",
        "\n",
        "# Check if the 'content' column exists\n",
        "if 'content' in emails.columns:\n",
        "    # Apply phishing detection\n",
        "    emails[\"is_phishing\"] = emails[\"content\"].apply(\n",
        "        lambda x: any(keyword in str(x).lower() for keyword in phishing_keywords)\n",
        "    )\n",
        "\n",
        "\n",
        "    # Save the processed file\n",
        "    emails.to_csv(\"/content/analyzed_2401000288.csv\", index=False)\n",
        "    print(\"Phishing detection complete. ✅\")\n",
        "else:\n",
        "    print(\"Error: The 'content' column is missing from the dataset.\")\n",
        "\n",
        "# Input texts\n",
        "text1 = \"This is a sample sample  text about is this legal sample issues.\"\n",
        "text2 = \"This text legal  discusses legal and ethical This issues in legal computing.\"\n",
        "\n",
        "import pandas as pd\n",
        "def jaccard_similarity(text1, text2):\n",
        "    # Split texts into sets of words\n",
        "    set1 = set(text1.split())\n",
        "\n",
        "# Define phishing keywords\n",
        "phishing_keywords = [\"urgent\", \"password reset\", \"bank\", \"verify\", \"account suspended\"]\n",
        "#These are words commonly found in phishing emails.\n",
        "#The script will check if an email contains any of these words.\n",
        "\n",
        "# Load the dataset (uploaded file)\n",
        "emails = pd.read_csv(\"/content/2401000288.csv\")\n",
        "\n",
        "# Check if the 'content' column exists\n",
        "if 'content' in emails.columns:\n",
        "    # Apply phishing detection\n",
        "    emails[\"is_phishing\"] = emails[\"content\"].apply(\n",
        "        lambda x: any(keyword in str(x).lower() for keyword in phishing_keywords)\n",
        "    )\n",
        "\n",
        "\n",
        "    # Save the processed file\n",
        "    emails.to_csv(\"/content/analyzed_2401000288.csv\", index=False)\n",
        "    print(\"Phishing detection complete. ✅\")\n",
        "else:\n",
        "    print(\"Error: The 'content' column is missing from the dataset.\")\n",
        "\n",
        "# Input texts\n",
        "text1 = \"This is a sample sample  text about is this legal sample issues.\"\n",
        "text2 = \"This text legal  discusses legal and ethical This issues in legal computing.\"\n",
        "\n",
        "# Calculate similarity and get common words\n",
        "#similarity, common_words = jaccard_similarity(text1, text2) #this line was causing the error, the function was not defined correctly\n",
        "#The function was not defined correctly, thus, I've commented out the line.\n",
        "#If you intend to use the function, you need to define it properly."
      ]
    }
  ]
}